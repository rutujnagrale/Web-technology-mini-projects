{
 "cells": [
  {
   "cell_type": "markdown",
   "id": "3a7c0a2b",
   "metadata": {},
   "source": [
    "<h1>Data Science Tools and Ecosystem<h1>"
   ]
  },
  {
   "cell_type": "markdown",
   "id": "21c88cbd",
   "metadata": {},
   "source": [
    "<h4>In this notebook, Data Science Tools and Ecosystem are summarized.<h4>"
   ]
  },
  {
   "cell_type": "markdown",
   "id": "0d6594a0",
   "metadata": {},
   "source": [
    "Some of the popular languages that Data Scientists use are:\n",
    "\n",
    "1. Python\n",
    "2. R\n",
    "3. SQL\n",
    "4. Julia"
   ]
  },
  {
   "cell_type": "markdown",
   "id": "e5ae0bc6",
   "metadata": {},
   "source": [
    "<h4>Some of the commonly used libraries used by Data Scientists include:\n",
    "\n",
    "1. Pandas\n",
    "2. NumPy\n",
    "3. Matplotlib\n",
    "4. Scikit-learn<h4>"
   ]
  },
  {
   "cell_type": "markdown",
   "id": "6a12087f",
   "metadata": {},
   "source": [
    "| Data Science Tools |\n",
    "|-------------------|\n",
    "| Jupyter Notebook   |\n",
    "| RStudio            |\n",
    "| Apache Zeppelin    |\n"
   ]
  },
  {
   "cell_type": "markdown",
   "id": "85b654d5",
   "metadata": {},
   "source": [
    "<h3>Below are a few examples of evaluating arithmetic expressions in Python<h3>"
   ]
  },
  {
   "cell_type": "code",
   "execution_count": 1,
   "id": "bd014cee",
   "metadata": {},
   "outputs": [
    {
     "name": "stdout",
     "output_type": "stream",
     "text": [
      "17\n"
     ]
    }
   ],
   "source": [
    "# This is a simple arithmetic expression to multiply then add integers\n",
    "result = (3 * 4) + 5\n",
    "print(result)  # Output should be 17\n"
   ]
  },
  {
   "cell_type": "code",
   "execution_count": 2,
   "id": "e3f0da49",
   "metadata": {},
   "outputs": [
    {
     "name": "stdout",
     "output_type": "stream",
     "text": [
      "3.3333333333333335\n"
     ]
    }
   ],
   "source": [
    "# This will convert 200 minutes to hours by dividing by 60\n",
    "hours = 200 / 60\n",
    "print(hours)  # Output will be approximately 3.33\n"
   ]
  },
  {
   "cell_type": "markdown",
   "id": "b2b660a6",
   "metadata": {},
   "source": [
    "**Objectives:**\n",
    "- List popular languages for Data Science.\n",
    "- List commonly used libraries in Data Science.\n",
    "- Introduce arithmetic expressions in Python.\n",
    "- Evaluate arithmetic expressions using Python code.\n"
   ]
  },
  {
   "cell_type": "markdown",
   "id": "0599347d",
   "metadata": {},
   "source": [
    "<h2>Author<h2>\n",
    "Rutuj Nagrale\n"
   ]
  },
  {
   "cell_type": "code",
   "execution_count": null,
   "id": "c407a7ab",
   "metadata": {},
   "outputs": [],
   "source": []
  }
 ],
 "metadata": {
  "kernelspec": {
   "display_name": "Python 3 (ipykernel)",
   "language": "python",
   "name": "python3"
  },
  "language_info": {
   "codemirror_mode": {
    "name": "ipython",
    "version": 3
   },
   "file_extension": ".py",
   "mimetype": "text/x-python",
   "name": "python",
   "nbconvert_exporter": "python",
   "pygments_lexer": "ipython3",
   "version": "3.10.2"
  }
 },
 "nbformat": 4,
 "nbformat_minor": 5
}
